{
 "cells": [
  {
   "cell_type": "code",
   "execution_count": null,
   "metadata": {},
   "outputs": [
    {
     "name": "stdout",
     "output_type": "stream",
     "text": [
      "Model Accuracy: 60.00%\n",
      "The email '{'free': 1, 'money': 1, 'lunch': 1}' is classified as: spam\n"
     ]
    }
   ],
   "source": [
    "from collections import defaultdict\n",
    "import math\n",
    "\n",
    "class NaiveBayesClassifier:\n",
    "    def __init__(self):\n",
    "        self.word_counts = {\"spam\": defaultdict(int), \"ham\": defaultdict(int)}\n",
    "        self.class_counts = {\"spam\": 0, \"ham\": 0}\n",
    "        self.vocab = set()\n",
    "    \n",
    "    def train(self, dataset):\n",
    "        for email, label in dataset:\n",
    "            self.class_counts[label] += 1\n",
    "            for word, count in email.items():\n",
    "                self.word_counts[label][word] += count\n",
    "                self.vocab.add(word)\n",
    "    \n",
    "    def calculate_prior(self):\n",
    "        total_emails = sum(self.class_counts.values())\n",
    "        return {label: self.class_counts[label] / total_emails for label in [\"spam\", \"ham\"]}\n",
    "    \n",
    "    def calculate_likelihood(self, word, label):\n",
    "        laplace_smoothing = 1\n",
    "        word_count = self.word_counts[label][word] + laplace_smoothing\n",
    "        total_words = sum(self.word_counts[label].values()) + len(self.vocab)  # Laplace smoothing\n",
    "        return word_count / total_words\n",
    "    \n",
    "    def predict(self, email):\n",
    "        priors = self.calculate_prior()\n",
    "        scores = {label: math.log(priors[label]) for label in [\"spam\", \"ham\"]}\n",
    "        \n",
    "        for word in email:\n",
    "            if word in self.vocab:\n",
    "                for label in [\"spam\", \"ham\"]:\n",
    "                    scores[label] += math.log(self.calculate_likelihood(word, label))\n",
    "        \n",
    "        return max(scores, key=scores.get)\n",
    "    \n",
    "    def evaluate(self, test_data):\n",
    "        correct = 0\n",
    "        for email, label in test_data:\n",
    "            prediction = self.predict(email)\n",
    "            if prediction == label:\n",
    "                correct += 1\n",
    "        return correct / len(test_data)\n",
    "\n",
    "# Sample training dataset\n",
    "dataset = [\n",
    "    ({\"free\": 1, \"money\": 1, \"now\": 1}, \"spam\"),\n",
    "    ({\"limited\": 1, \"offer\": 1, \"money\": 1}, \"spam\"),\n",
    "    ({\"hello\": 1, \"how\": 1, \"are\": 1, \"you\": 1}, \"ham\"),\n",
    "    ({\"congratulations\": 1, \"you\": 1, \"win\": 1}, \"spam\"),\n",
    "    ({\"meet\": 1, \"me\": 1, \"for\": 1, \"lunch\": 1}, \"ham\"),\n",
    "    ({\"free\": 1, \"offer\": 1, \"money\": 1}, \"spam\"),\n",
    "    ({\"hello\": 1, \"dear\": 1, \"friend\": 1}, \"ham\"),\n",
    "    ({\"money\": 1, \"limited\": 1, \"free\": 1}, \"spam\"),\n",
    "    ({\"how\": 1, \"are\": 1, \"you\": 1, \"today\": 1}, \"ham\"),\n",
    "]\n",
    "\n",
    "# Splitting into training and test sets (50% train, 50% test)\n",
    "train_data = dataset[:4]\n",
    "test_data = dataset[4:]\n",
    "\n",
    "# Training the classifier\n",
    "nb_classifier = NaiveBayesClassifier()\n",
    "nb_classifier.train(train_data)\n",
    "\n",
    "# Evaluating the classifier\n",
    "accuracy = nb_classifier.evaluate(test_data)\n",
    "print(f\"Model Accuracy: {accuracy * 100:.2f}%\")\n",
    "\n",
    "# Predicting a new email\n",
    "new_email = {\"free\": 1, \"money\": 1, \"lunch\": 1}\n",
    "prediction = nb_classifier.predict(new_email)\n",
    "print(f\"The email '{new_email}' is classified as: {prediction}\")\n",
    "\n",
    "# I found out that we can easiily increase the accuracy by simply increasing the dataset training portion from 50% to higher."
   ]
  }
 ],
 "metadata": {
  "kernelspec": {
   "display_name": "Python 3",
   "language": "python",
   "name": "python3"
  },
  "language_info": {
   "codemirror_mode": {
    "name": "ipython",
    "version": 3
   },
   "file_extension": ".py",
   "mimetype": "text/x-python",
   "name": "python",
   "nbconvert_exporter": "python",
   "pygments_lexer": "ipython3",
   "version": "3.13.1"
  }
 },
 "nbformat": 4,
 "nbformat_minor": 2
}
