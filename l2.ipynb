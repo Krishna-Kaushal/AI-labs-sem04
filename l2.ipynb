{
 "cells": [
  {
   "cell_type": "code",
   "execution_count": 2,
   "metadata": {},
   "outputs": [],
   "source": [
    "import pandas as pd\n",
    "import numpy as np\n",
    "import matplotlib.pyplot as plt"
   ]
  },
  {
   "cell_type": "code",
   "execution_count": 3,
   "metadata": {},
   "outputs": [
    {
     "name": "stdout",
     "output_type": "stream",
     "text": [
      "      Name  Age  Salary     Tax  Net Salary\n",
      "0    Alice   24   50000  5000.0     45000.0\n",
      "1      Bob   27   60000  6000.0     54000.0\n",
      "2  Charlie   22   45000  4500.0     40500.0\n",
      "3    David   32   80000  8000.0     72000.0\n"
     ]
    }
   ],
   "source": [
    "data = {'Name': ['Alice', 'Bob', 'Charlie', 'David'],\n",
    "        'Age': [24, 27, 22, 32],\n",
    "        'Salary': [50000, 60000, 45000, 80000]}\n",
    "df = pd.DataFrame(data)\n",
    "\n",
    "df['Tax'] = df['Salary'] * 0.10\n",
    "df['Net Salary'] = df['Salary'] - df['Tax']\n",
    "print(df)"
   ]
  },
  {
   "cell_type": "code",
   "execution_count": 4,
   "metadata": {},
   "outputs": [
    {
     "name": "stdout",
     "output_type": "stream",
     "text": [
      "Sex     Class \n",
      "female  Second     55.0\n",
      "        Third      20.0\n",
      "male    First     110.0\n",
      "Name: Fare, dtype: float64\n"
     ]
    }
   ],
   "source": [
    "data = {'Sex': ['male', 'female', 'female', 'male', 'female'],\n",
    "        'Class': ['First', 'Second', 'Third', 'First', 'Second'],\n",
    "        'Fare': [100, 50, 20, 120, 60]}\n",
    "df = pd.DataFrame(data)\n",
    "\n",
    "mean_fare = df.groupby(['Sex', 'Class'])['Fare'].mean()\n",
    "print(mean_fare)"
   ]
  },
  {
   "cell_type": "code",
   "execution_count": 5,
   "metadata": {},
   "outputs": [
    {
     "name": "stdout",
     "output_type": "stream",
     "text": [
      "Class\n",
      "First     2\n",
      "Second    2\n",
      "Third     1\n",
      "Name: count, dtype: int64\n"
     ]
    }
   ],
   "source": [
    "passenger_count = df['Class'].value_counts()\n",
    "print(passenger_count)"
   ]
  },
  {
   "cell_type": "code",
   "execution_count": 6,
   "metadata": {},
   "outputs": [
    {
     "name": "stdout",
     "output_type": "stream",
     "text": [
      "   Student  Subject  Score\n",
      "0    Alice     Math     85\n",
      "1      Bob     Math     90\n",
      "2  Charlie     Math     95\n",
      "3    Alice  Science     88\n",
      "4      Bob  Science     92\n",
      "5  Charlie  Science     96\n"
     ]
    }
   ],
   "source": [
    "data = {'Student': ['Alice', 'Bob', 'Charlie'],\n",
    "        'Math': [85, 90, 95],\n",
    "        'Science': [88, 92, 96]}\n",
    "df = pd.DataFrame(data)\n",
    "\n",
    "df_long = df.melt(id_vars=['Student'], var_name='Subject', value_name='Score')\n",
    "print(df_long)"
   ]
  },
  {
   "cell_type": "code",
   "execution_count": 7,
   "metadata": {},
   "outputs": [
    {
     "name": "stdout",
     "output_type": "stream",
     "text": [
      "Subject  Math  Science\n",
      "Student               \n",
      "Alice      85       88\n",
      "Bob        90       92\n",
      "Charlie    95       96\n"
     ]
    }
   ],
   "source": [
    "df_wide = df_long.pivot(index='Student', columns='Subject', values='Score')\n",
    "print(df_wide)"
   ]
  },
  {
   "cell_type": "code",
   "execution_count": 8,
   "metadata": {},
   "outputs": [
    {
     "name": "stdout",
     "output_type": "stream",
     "text": [
      "   ID     Name  Score\n",
      "0   2      Bob     85\n",
      "1   3  Charlie     90\n",
      "   ID     Name  Score\n",
      "0   1    Alice    NaN\n",
      "1   2      Bob   85.0\n",
      "2   3  Charlie   90.0\n"
     ]
    }
   ],
   "source": [
    "data1 = {'ID': [1, 2, 3], 'Name': ['Alice', 'Bob', 'Charlie']}\n",
    "data2 = {'ID': [2, 3, 4], 'Score': [85, 90, 95]}\n",
    "df1 = pd.DataFrame(data1)\n",
    "df2 = pd.DataFrame(data2)\n",
    "\n",
    "inner_join = pd.merge(df1, df2, on='ID', how='inner')\n",
    "left_join = pd.merge(df1, df2, on='ID', how='left')\n",
    "print(inner_join)\n",
    "print(left_join)"
   ]
  },
  {
   "cell_type": "code",
   "execution_count": 9,
   "metadata": {},
   "outputs": [
    {
     "name": "stdout",
     "output_type": "stream",
     "text": [
      "Department\n",
      "Finance    114000\n",
      "HR         102000\n",
      "IT         121000\n",
      "Name: Salary, dtype: int64\n",
      "Department\n",
      "Finance    57000.0\n",
      "HR         51000.0\n",
      "IT         60500.0\n",
      "Name: Salary, dtype: float64\n"
     ]
    }
   ],
   "source": [
    "data = {'Department': ['HR', 'IT', 'Finance', 'HR', 'Finance', 'IT'],\n",
    "        'Employee': ['Alice', 'Bob', 'Charlie', 'David', 'Eve', 'Frank'],\n",
    "        'Salary': [50000, 60000, 55000, 52000, 59000, 61000]}\n",
    "df = pd.DataFrame(data)\n",
    "\n",
    "total_salary = df.groupby('Department')['Salary'].sum()\n",
    "average_salary = df.groupby('Department')['Salary'].mean()\n",
    "print(total_salary)\n",
    "print(average_salary)"
   ]
  },
  {
   "cell_type": "code",
   "execution_count": 19,
   "metadata": {},
   "outputs": [
    {
     "name": "stdout",
     "output_type": "stream",
     "text": [
      "    Name   Age   Salary\n",
      "0  Alice  24.0  50000.0\n",
      "1    Bob  26.0  60000.0\n",
      "3  David  32.0  80000.0\n"
     ]
    }
   ],
   "source": [
    "data = {'Name': ['Alice', 'Bob', 'Charlie', 'David'],\n",
    "        'Age': [24, np.nan, 22, 32],\n",
    "        'Salary': [50000, 60000, np.nan, 80000]}\n",
    "df = pd.DataFrame(data)\n",
    "\n",
    "mean_age = df['Age'].mean()\n",
    "df['Age'] = df['Age'].fillna(mean_age)\n",
    "df.dropna(subset=['Salary'], inplace=True)\n",
    "print(df)"
   ]
  },
  {
   "cell_type": "code",
   "execution_count": 11,
   "metadata": {},
   "outputs": [
    {
     "data": {
      "image/png": "[encoded data removed]",
      "text/plain": [
       "<Figure size 640x480 with 1 Axes>"
      ]
     },
     "metadata": {},
     "output_type": "display_data"
    },
    {
     "data": {
      "image/png": "[encoded data removed]",
      "text/plain": [
       "<Figure size 640x480 with 1 Axes>"
      ]
     },
     "metadata": {},
     "output_type": "display_data"
    }
   ],
   "source": [
    "data = {'Month': ['Jan', 'Feb', 'Mar', 'Apr', 'May'],\n",
    "        'Sales': [300, 400, 500, 600, 700]}\n",
    "df = pd.DataFrame(data)\n",
    "\n",
    "plt.plot(df['Month'], df['Sales'])\n",
    "plt.title('Month vs Sales')\n",
    "plt.xlabel('Month')\n",
    "plt.ylabel('Sales')\n",
    "plt.show()\n",
    "\n",
    "plt.bar(df['Month'], df['Sales'])\n",
    "plt.title('Month vs Sales')\n",
    "plt.xlabel('Month')\n",
    "plt.ylabel('Sales')\n",
    "plt.show()"
   ]
  },
  {
   "cell_type": "code",
   "execution_count": 12,
   "metadata": {},
   "outputs": [
    {
     "name": "stdout",
     "output_type": "stream",
     "text": [
      "        Date  Sales\n",
      "0 2023-01-01    318\n",
      "1 2023-01-02    460\n",
      "2 2023-01-03    388\n",
      "3 2023-01-04    369\n"
     ]
    }
   ],
   "source": [
    "dates = ['2023-01-01', '2023-01-02', '2023-01-03', '2023-01-04', '2023-01-05']\n",
    "sales = np.random.randint(100, 500, size=5)\n",
    "df = pd.DataFrame({'Date': dates, 'Sales': sales})\n",
    "\n",
    "df['Date'] = pd.to_datetime(df['Date'])\n",
    "filtered_df = df[df['Sales'] > 300]\n",
    "print(filtered_df)"
   ]
  },
  {
   "cell_type": "code",
   "execution_count": 13,
   "metadata": {},
   "outputs": [
    {
     "name": "stdout",
     "output_type": "stream",
     "text": [
      "USA        Washington, D.C.\n",
      "UK                   London\n",
      "France                Paris\n",
      "Germany              Berlin\n",
      "dtype: object\n"
     ]
    }
   ],
   "source": [
    "cities = pd.Series(['Washington, D.C.', 'London', 'Paris', 'Berlin'],\n",
    "                   index=['USA', 'UK', 'France', 'Germany'])\n",
    "print(cities)"
   ]
  },
  {
   "cell_type": "code",
   "execution_count": 14,
   "metadata": {},
   "outputs": [
    {
     "name": "stdout",
     "output_type": "stream",
     "text": [
      "         Population           Capital\n",
      "USA             331  Washington, D.C.\n",
      "UK               67            London\n",
      "France           65             Paris\n",
      "Germany          83            Berlin\n"
     ]
    }
   ],
   "source": [
    "data = {'Population': [331, 67, 65, 83],\n",
    "        'Capital': ['Washington, D.C.', 'London', 'Paris', 'Berlin']}\n",
    "df = pd.DataFrame(data, index=['USA', 'UK', 'France', 'Germany'])\n",
    "print(df)\n"
   ]
  },
  {
   "cell_type": "code",
   "execution_count": 15,
   "metadata": {},
   "outputs": [
    {
     "name": "stdout",
     "output_type": "stream",
     "text": [
      "12\n",
      "12\n"
     ]
    }
   ],
   "source": [
    "df = pd.read_csv('titanic.csv')\n",
    "print(df.shape[1])  # Number of columns\n",
    "print(len(df.columns))  # Number of variables"
   ]
  },
  {
   "cell_type": "code",
   "execution_count": 16,
   "metadata": {},
   "outputs": [
    {
     "name": "stdout",
     "output_type": "stream",
     "text": [
      "             Population (millions)  Size (km2)  \\\n",
      "New York                       8.5       783.8   \n",
      "Los Angeles                    3.9       604.3   \n",
      "Chicago                        2.2       105.4   \n",
      "\n",
      "             Population Density (people per km2)  \n",
      "New York                                   10845  \n",
      "Los Angeles                                 6454  \n",
      "Chicago                                    20874  \n"
     ]
    }
   ],
   "source": [
    "data = {'Population (millions)': [8.5, 3.9, 2.2],\n",
    "        'Size (km2)': [783.8, 604.3, 105.4],\n",
    "        'Population Density (people per km2)': [10845, 6454, 20874]}\n",
    "df = pd.DataFrame(data, index=['New York', 'Los Angeles', 'Chicago'])\n",
    "print(df)"
   ]
  },
  {
   "cell_type": "code",
   "execution_count": 18,
   "metadata": {},
   "outputs": [
    {
     "name": "stdout",
     "output_type": "stream",
     "text": [
      "New York       10845.0\n",
      "Los Angeles     6454.0\n",
      "Chicago        20874.0\n",
      "Name: Population Density (people per km2), dtype: float64\n",
      "[2.2000e+00 1.0540e+02 2.0874e+04]\n",
      "Population (millions)                      2.2\n",
      "Size (km2)                               105.4\n",
      "Population Density (people per km2)    20874.0\n",
      "Name: Chicago, dtype: float64\n"
     ]
    }
   ],
   "source": [
    "city_matrix = np.array([[8.5, 783.8, 10845], [3.9, 604.3, 6454], [2.2, 105.4, 20874]])\n",
    "city_df = pd.DataFrame(city_matrix, index=['New York', 'Los Angeles', 'Chicago'], columns=['Population (millions)', 'Size (km2)', 'Population Density (people per km2)'])\n",
    "\n",
    "# a) population density for all cities\n",
    "print(city_df['Population Density (people per km2)'])\n",
    "\n",
    "# b) data for the third city\n",
    "print(city_matrix[2])  # Using index\n",
    "print(city_df.iloc[2])  # Using row number"
   ]
  }
 ],
 "metadata": {
  "kernelspec": {
   "display_name": "Python 3",
   "language": "python",
   "name": "python3"
  },
  "language_info": {
   "codemirror_mode": {
    "name": "ipython",
    "version": 3
   },
   "file_extension": ".py",
   "mimetype": "text/x-python",
   "name": "python",
   "nbconvert_exporter": "python",
   "pygments_lexer": "ipython3",
   "version": "3.13.1"
  }
 },
 "nbformat": 4,
 "nbformat_minor": 2
}
